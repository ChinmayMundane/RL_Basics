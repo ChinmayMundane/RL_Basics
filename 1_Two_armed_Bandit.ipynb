{
  "nbformat": 4,
  "nbformat_minor": 0,
  "metadata": {
    "colab": {
      "provenance": []
    },
    "kernelspec": {
      "name": "python3",
      "display_name": "Python 3"
    },
    "language_info": {
      "name": "python"
    }
  },
  "cells": [
    {
      "cell_type": "code",
      "execution_count": 3,
      "metadata": {
        "colab": {
          "base_uri": "https://localhost:8080/"
        },
        "id": "IibzcF1MFC5W",
        "outputId": "e45c7003-37d4-4303-b4d8-557f6c591169"
      },
      "outputs": [
        {
          "output_type": "stream",
          "name": "stderr",
          "text": [
            "WARNING:tensorflow:From /usr/local/lib/python3.10/dist-packages/tensorflow/python/compat/v2_compat.py:108: disable_resource_variables (from tensorflow.python.ops.variable_scope) is deprecated and will be removed in a future version.\n",
            "Instructions for updating:\n",
            "non-resource variables are not supported in the long term\n"
          ]
        }
      ],
      "source": [
        "import tensorflow as tf\n",
        "import numpy as np\n",
        "import tensorflow.compat.v1 as tf\n",
        "tf.disable_v2_behavior()"
      ]
    },
    {
      "cell_type": "markdown",
      "source": [
        "**The Bandits**\n",
        "\n",
        "\n",
        "\n",
        "Here we define our bandits. For this example we are using a four-armed bandit. The pullBandit function generates a random number from a normal distribution with a mean of 0. The lower the bandit number, the more likely a positive reward will be returned. We want our agent to learn to always choose the bandit that will give that positive reward."
      ],
      "metadata": {
        "id": "r5R1KUQIF0a8"
      }
    },
    {
      "cell_type": "code",
      "source": [
        "#List out our bandits. Currently bandit 4 (index#3) is set to most often provide a positive reward.\n",
        "bandits = [0.2,0,-0.2,-5]\n",
        "num_bandits = len(bandits)\n",
        "def pullBandit(bandit):\n",
        "    #Get a random number.\n",
        "    result = np.random.randn(1)\n",
        "    if result > bandit:\n",
        "        #return a positive reward.\n",
        "        return 1\n",
        "    else:\n",
        "        #return a negative reward.\n",
        "        return -1"
      ],
      "metadata": {
        "id": "tv0MYC0JF-hz"
      },
      "execution_count": 4,
      "outputs": []
    },
    {
      "cell_type": "markdown",
      "source": [
        "**The Agent**\n",
        "\n",
        "The code below established our simple neural agent. It consists of a set of values for each of the bandits. Each value is an estimate of the value of the return from choosing the bandit. We use a policy gradient method to update the agent by moving the value for the selected action toward the recieved reward."
      ],
      "metadata": {
        "id": "yjzzBPUHGHd7"
      }
    },
    {
      "cell_type": "code",
      "source": [
        "tf.compat.v1.reset_default_graph()\n",
        "#These two lines established the feed-forward part of the network. This does the actual choosing.\n",
        "weights = tf.Variable(tf.ones([num_bandits]))\n",
        "# weights  [1,1,1,1]\n",
        "chosen_action = tf.argmax(weights,0)\n",
        "# above line choses the index of maximum value in weight variable.\n",
        "\n",
        "#The next six lines establish the training proceedure. We feed the reward and chosen action into the network\n",
        "#to compute the loss, and use it to update the network.\n",
        "reward_holder = tf.placeholder(shape=[1],dtype=tf.float32)\n",
        "action_holder = tf.placeholder(shape=[1],dtype=tf.int32)\n",
        "\n",
        "\n",
        "#tf.slice(input_, begin, size, name=None)\n",
        "responsible_weight = tf.slice(weights,action_holder,[1])\n",
        "loss = -(tf.log(responsible_weight)*reward_holder)\n",
        "optimizer = tf.train.GradientDescentOptimizer(learning_rate=0.001)\n",
        "update = optimizer.minimize(loss)"
      ],
      "metadata": {
        "id": "N4bQG2exGScm"
      },
      "execution_count": 5,
      "outputs": []
    },
    {
      "cell_type": "markdown",
      "source": [
        "**Training the Agent**\n",
        "\n",
        "We will train our agent by taking actions in our environment, and recieving rewards. Using the rewards and actions, we can know how to properly update our network in order to more often choose actions that will yield the highest rewards over time."
      ],
      "metadata": {
        "id": "x7RId2oxHGKt"
      }
    },
    {
      "cell_type": "code",
      "source": [
        "total_episodes = 1000 #Set total number of episodes to train agent on.\n",
        "total_reward = np.zeros(num_bandits) #Set scoreboard for bandits to 0.\n",
        "e = 0.1 #Set the chance of taking a random action.\n",
        "\n",
        "init = tf.initialize_all_variables()\n",
        "\n",
        "# Launch the tensorflow graph\n",
        "with tf.Session() as sess:\n",
        "    sess.run(init)\n",
        "    i = 0\n",
        "    while i < total_episodes:\n",
        "\n",
        "        #Choose either a random action or one from our network.\n",
        "        if np.random.rand(1) < e:\n",
        "            action = np.random.randint(num_bandits)\n",
        "        else:\n",
        "            action = sess.run(chosen_action)\n",
        "\n",
        "        reward = pullBandit(bandits[action]) #Get our reward from picking one of the bandits.\n",
        "\n",
        "        #Update the network.\n",
        "        _,resp,ww = sess.run([update,responsible_weight,weights], feed_dict={reward_holder:[reward],action_holder:[action]})\n",
        "\n",
        "        #Update our running tally of scores.\n",
        "        total_reward[action] += reward\n",
        "        if i % 50 == 0:\n",
        "            print( \"Running reward for the \" + str(num_bandits) + \" bandits: \" + str(total_reward))\n",
        "        i+=1\n",
        "print(\"The agent thinks bandit \" + str(np.argmax(ww)+1) + \" is the most promising....\")\n",
        "if np.argmax(ww) == np.argmax(-np.array(bandits)):\n",
        "    print(\"...and it was right!\")\n",
        "else:\n",
        "    print(\"...and it was wrong!\")"
      ],
      "metadata": {
        "colab": {
          "base_uri": "https://localhost:8080/"
        },
        "id": "OZMWmDG7HJfO",
        "outputId": "55ecb8b5-6181-4e32-f47f-0315d3dab1b7"
      },
      "execution_count": 11,
      "outputs": [
        {
          "output_type": "stream",
          "name": "stderr",
          "text": [
            "WARNING:tensorflow:From /usr/local/lib/python3.10/dist-packages/tensorflow/python/util/tf_should_use.py:288: initialize_all_variables (from tensorflow.python.ops.variables) is deprecated and will be removed after 2017-03-02.\n",
            "Instructions for updating:\n",
            "Use `tf.global_variables_initializer` instead.\n"
          ]
        },
        {
          "output_type": "stream",
          "name": "stdout",
          "text": [
            "Running reward for the 4 bandits: [1. 0. 0. 0.]\n",
            "Running reward for the 4 bandits: [-1. -2.  0. 16.]\n",
            "Running reward for the 4 bandits: [-1. -2.  1. 65.]\n",
            "Running reward for the 4 bandits: [ -1.  -4.   1. 111.]\n",
            "Running reward for the 4 bandits: [  0.  -4.   0. 155.]\n",
            "Running reward for the 4 bandits: [ -1.  -4.   1. 201.]\n",
            "Running reward for the 4 bandits: [ -1.  -3.   1. 250.]\n",
            "Running reward for the 4 bandits: [ -1.  -3.   1. 296.]\n",
            "Running reward for the 4 bandits: [ -1.  -3.   3. 342.]\n",
            "Running reward for the 4 bandits: [ -4.  -2.   3. 388.]\n",
            "Running reward for the 4 bandits: [ -3.  -3.   3. 436.]\n",
            "Running reward for the 4 bandits: [ -3.  -3.   3. 484.]\n",
            "Running reward for the 4 bandits: [ -3.  -4.   2. 530.]\n",
            "Running reward for the 4 bandits: [ -2.  -4.   1. 578.]\n",
            "Running reward for the 4 bandits: [ -2.  -4.   2. 625.]\n",
            "Running reward for the 4 bandits: [ -2.  -2.   2. 673.]\n",
            "Running reward for the 4 bandits: [ -1.  -3.   3. 720.]\n",
            "Running reward for the 4 bandits: [ -2.  -3.   2. 766.]\n",
            "Running reward for the 4 bandits: [ -4.  -3.   1. 811.]\n",
            "Running reward for the 4 bandits: [ -6.  -2.   1. 858.]\n",
            "The agent thinks bandit 4 is the most promising....\n",
            "...and it was right!\n"
          ]
        }
      ]
    }
  ]
}