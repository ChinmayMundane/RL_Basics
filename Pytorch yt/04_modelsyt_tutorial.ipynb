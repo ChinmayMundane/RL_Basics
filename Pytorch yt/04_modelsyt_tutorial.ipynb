{
  "cells": [
    {
      "cell_type": "code",
      "execution_count": null,
      "metadata": {
        "id": "beI9DI44CbkB"
      },
      "outputs": [],
      "source": [
        "# For tips on running notebooks in Google Colab, see\n",
        "# https://pytorch.org/tutorials/beginner/colab\n",
        "%matplotlib inline"
      ]
    },
    {
      "cell_type": "markdown",
      "metadata": {
        "id": "PWPy_iwgCbkD"
      },
      "source": [
        "\n",
        "[Introduction](introyt1_tutorial.html) ||\n",
        "[Tensors](tensors_deeper_tutorial.html) ||\n",
        "[Autograd](autogradyt_tutorial.html) ||\n",
        "**Building Models** ||\n",
        "[TensorBoard Support](tensorboardyt_tutorial.html) ||\n",
        "[Training Models](trainingyt.html) ||\n",
        "[Model Understanding](captumyt.html)\n",
        "\n",
        "# Building Models with PyTorch\n",
        "\n",
        "Follow along with the video below or on [youtube](https://www.youtube.com/watch?v=OSqIP-mOWOI)_.\n",
        "\n",
        ".. raw:: html\n",
        "\n",
        "   <div style=\"margin-top:10px; margin-bottom:10px;\">\n",
        "     <iframe width=\"560\" height=\"315\" src=\"https://www.youtube.com/embed/OSqIP-mOWOI\" frameborder=\"0\" allow=\"accelerometer; encrypted-media; gyroscope; picture-in-picture\" allowfullscreen></iframe>\n",
        "   </div>\n",
        "\n",
        "## ``torch.nn.Module`` and ``torch.nn.Parameter``\n",
        "\n",
        "In this video, we’ll be discussing some of the tools PyTorch makes\n",
        "available for building deep learning networks.\n",
        "\n",
        "Except for ``Parameter``, the classes we discuss in this video are all\n",
        "subclasses of ``torch.nn.Module``. This is the PyTorch base class meant\n",
        "to encapsulate behaviors specific to PyTorch Models and their\n",
        "components.\n",
        "\n",
        "One important behavior of ``torch.nn.Module`` is registering parameters.\n",
        "If a particular ``Module`` subclass has learning weights, these weights\n",
        "are expressed as instances of ``torch.nn.Parameter``. The ``Parameter``\n",
        "class is a subclass of ``torch.Tensor``, with the special behavior that\n",
        "when they are assigned as attributes of a ``Module``, they are added to\n",
        "the list of that modules parameters. These parameters may be accessed\n",
        "through the ``parameters()`` method on the ``Module`` class.\n",
        "\n",
        "As a simple example, here’s a very simple model with two linear layers\n",
        "and an activation function. We’ll create an instance of it and ask it to\n",
        "report on its parameters:\n"
      ]
    },
    {
      "cell_type": "code",
      "execution_count": 2,
      "metadata": {
        "id": "Yuwjqy-GCbkF",
        "outputId": "e14f6f42-2c70-4962-8ad7-f25f4f5434d9",
        "colab": {
          "base_uri": "https://localhost:8080/"
        }
      },
      "outputs": [
        {
          "output_type": "stream",
          "name": "stdout",
          "text": [
            "The model:\n",
            "TinyModel(\n",
            "  (linear1): Linear(in_features=100, out_features=200, bias=True)\n",
            "  (activation): Softmax(dim=None)\n",
            "  (linear2): Linear(in_features=200, out_features=10, bias=True)\n",
            ")\n",
            "\n",
            "\n",
            "Just one layer:\n",
            "Linear(in_features=200, out_features=10, bias=True)\n",
            "\n",
            "\n",
            "Model params:\n",
            "Parameter containing:\n",
            "tensor([[ 0.0240, -0.0059, -0.0070,  ...,  0.0117,  0.0632,  0.0072],\n",
            "        [-0.0856, -0.0269,  0.0027,  ...,  0.0581,  0.0436, -0.0395],\n",
            "        [-0.0208, -0.0822, -0.0689,  ...,  0.0234, -0.0089,  0.0712],\n",
            "        ...,\n",
            "        [-0.0725,  0.0240,  0.0886,  ...,  0.0882, -0.0159, -0.0562],\n",
            "        [ 0.0035, -0.0660, -0.0979,  ..., -0.0086, -0.0525, -0.0288],\n",
            "        [-0.0547, -0.0401, -0.0392,  ...,  0.0412, -0.0141,  0.0644]],\n",
            "       requires_grad=True)\n",
            "Parameter containing:\n",
            "tensor([ 0.0324,  0.0544,  0.0373,  0.0525, -0.0712, -0.0962, -0.0257, -0.0841,\n",
            "         0.0586, -0.0988, -0.0271,  0.0178,  0.0873, -0.0216,  0.0785,  0.0577,\n",
            "        -0.0186, -0.0461,  0.0266, -0.0243, -0.0389, -0.0564, -0.0397,  0.0912,\n",
            "         0.0700,  0.0656, -0.0090, -0.0115, -0.0890,  0.0979, -0.0694,  0.0074,\n",
            "         0.0729, -0.0101, -0.0514, -0.0089,  0.0873,  0.0038,  0.0757,  0.0334,\n",
            "         0.0837,  0.0415,  0.0054,  0.0740, -0.0664,  0.0535, -0.0426,  0.0540,\n",
            "        -0.0699, -0.0820, -0.0791,  0.0198, -0.0603, -0.0285,  0.0794,  0.0402,\n",
            "         0.0145,  0.0814, -0.0148,  0.0265, -0.0110,  0.0414,  0.0859, -0.0904,\n",
            "        -0.0213,  0.0805, -0.0620,  0.0114, -0.0142,  0.0929, -0.0819,  0.0009,\n",
            "        -0.0753,  0.0922, -0.0420,  0.0981, -0.0598,  0.0322, -0.0093,  0.0045,\n",
            "         0.0782, -0.0610,  0.0920, -0.0365, -0.0035, -0.0972, -0.0068,  0.0158,\n",
            "         0.0484,  0.0656, -0.0125, -0.0731,  0.0676, -0.0418, -0.0997,  0.0797,\n",
            "         0.0260, -0.0945,  0.0936, -0.0371,  0.0894, -0.0443, -0.0229,  0.0475,\n",
            "         0.0505, -0.0783, -0.0213, -0.0132,  0.0056,  0.0138,  0.0342,  0.0358,\n",
            "         0.0587, -0.0935,  0.0496, -0.0426,  0.0206,  0.0417, -0.0821, -0.0630,\n",
            "         0.0085,  0.0798,  0.0555, -0.0837, -0.0751,  0.0494, -0.0915,  0.0630,\n",
            "         0.0779,  0.0039,  0.0687, -0.0855,  0.0297, -0.0741, -0.0042, -0.0318,\n",
            "         0.0704,  0.0854,  0.0459,  0.0020, -0.0821, -0.0013,  0.0522,  0.0769,\n",
            "        -0.0735,  0.0734,  0.0352,  0.0708, -0.0693, -0.0845,  0.0718,  0.0383,\n",
            "         0.0870, -0.0480, -0.0848, -0.0536,  0.0602, -0.0381, -0.0271,  0.0235,\n",
            "        -0.0625,  0.0485,  0.0234,  0.0548, -0.0906,  0.0428,  0.0833,  0.0335,\n",
            "         0.0673,  0.0239, -0.0128, -0.0192, -0.0494, -0.0293,  0.0556, -0.0118,\n",
            "         0.0148,  0.0127,  0.0649,  0.0563, -0.0372, -0.0563, -0.0460,  0.0434,\n",
            "         0.0858, -0.0618, -0.0004,  0.0274,  0.0855,  0.0430, -0.0910,  0.0308,\n",
            "        -0.0428, -0.0986, -0.0807,  0.0004, -0.0187,  0.0032,  0.0404,  0.0514],\n",
            "       requires_grad=True)\n",
            "Parameter containing:\n",
            "tensor([[-0.0244,  0.0324, -0.0490,  ..., -0.0342, -0.0116,  0.0663],\n",
            "        [ 0.0094, -0.0477,  0.0001,  ...,  0.0604,  0.0256,  0.0067],\n",
            "        [ 0.0356, -0.0199, -0.0223,  ..., -0.0335,  0.0652, -0.0372],\n",
            "        ...,\n",
            "        [ 0.0415, -0.0503,  0.0441,  ..., -0.0185,  0.0584, -0.0530],\n",
            "        [-0.0161, -0.0640,  0.0509,  ...,  0.0430, -0.0093, -0.0535],\n",
            "        [-0.0640,  0.0199, -0.0290,  ..., -0.0159,  0.0234,  0.0133]],\n",
            "       requires_grad=True)\n",
            "Parameter containing:\n",
            "tensor([-0.0098,  0.0575, -0.0076, -0.0522,  0.0261, -0.0357,  0.0188,  0.0286,\n",
            "         0.0575, -0.0669], requires_grad=True)\n",
            "\n",
            "\n",
            "Layer params:\n",
            "Parameter containing:\n",
            "tensor([[-0.0244,  0.0324, -0.0490,  ..., -0.0342, -0.0116,  0.0663],\n",
            "        [ 0.0094, -0.0477,  0.0001,  ...,  0.0604,  0.0256,  0.0067],\n",
            "        [ 0.0356, -0.0199, -0.0223,  ..., -0.0335,  0.0652, -0.0372],\n",
            "        ...,\n",
            "        [ 0.0415, -0.0503,  0.0441,  ..., -0.0185,  0.0584, -0.0530],\n",
            "        [-0.0161, -0.0640,  0.0509,  ...,  0.0430, -0.0093, -0.0535],\n",
            "        [-0.0640,  0.0199, -0.0290,  ..., -0.0159,  0.0234,  0.0133]],\n",
            "       requires_grad=True)\n",
            "Parameter containing:\n",
            "tensor([-0.0098,  0.0575, -0.0076, -0.0522,  0.0261, -0.0357,  0.0188,  0.0286,\n",
            "         0.0575, -0.0669], requires_grad=True)\n"
          ]
        }
      ],
      "source": [
        "import torch\n",
        "\n",
        "class TinyModel(torch.nn.Module):\n",
        "\n",
        "    def __init__(self):\n",
        "        super(TinyModel, self).__init__()\n",
        "\n",
        "        self.linear1 = torch.nn.Linear(100, 200)\n",
        "        self.activation = torch.nn.ReLU()\n",
        "        self.linear2 = torch.nn.Linear(200, 10)\n",
        "        self.softmax = torch.nn.Softmax()\n",
        "\n",
        "    def forward(self, x):\n",
        "        x = self.linear1(x)\n",
        "        x = self.activation(x)\n",
        "        x = self.linear2(x)\n",
        "        x = self.softmax(x)\n",
        "        return x\n",
        "\n",
        "tinymodel = TinyModel()\n",
        "\n",
        "print('The model:')\n",
        "print(tinymodel)\n",
        "\n",
        "print('\\n\\nJust one layer:')\n",
        "print(tinymodel.linear2)\n",
        "\n",
        "print('\\n\\nModel params:')\n",
        "for param in tinymodel.parameters():\n",
        "    print(param)\n",
        "\n",
        "print('\\n\\nLayer params:')\n",
        "for param in tinymodel.linear2.parameters():\n",
        "    print(param)"
      ]
    },
    {
      "cell_type": "markdown",
      "metadata": {
        "id": "KhEwZb4SCbkF"
      },
      "source": [
        "This shows the fundamental structure of a PyTorch model: there is an\n",
        "``__init__()`` method that defines the layers and other components of a\n",
        "model, and a ``forward()`` method where the computation gets done. Note\n",
        "that we can print the model, or any of its submodules, to learn about\n",
        "its structure.\n",
        "\n",
        "## Common Layer Types\n",
        "\n",
        "### Linear Layers\n",
        "\n",
        "The most basic type of neural network layer is a *linear* or *fully\n",
        "connected* layer. This is a layer where every input influences every\n",
        "output of the layer to a degree specified by the layer’s weights. If a\n",
        "model has *m* inputs and *n* outputs, the weights will be an *m* x *n*\n",
        "matrix. For example:\n",
        "\n",
        "\n"
      ]
    },
    {
      "cell_type": "code",
      "execution_count": 7,
      "metadata": {
        "id": "1ylMD73oCbkF",
        "outputId": "ea4361e1-6f0d-4a9c-c5e6-a3ea7e310f51",
        "colab": {
          "base_uri": "https://localhost:8080/"
        }
      },
      "outputs": [
        {
          "output_type": "stream",
          "name": "stdout",
          "text": [
            "Input:\n",
            "tensor([[0.5992, 0.9098, 0.3085]])\n",
            "\n",
            "\n",
            "Weight and Bias parameters:\n",
            "Parameter containing:\n",
            "tensor([[ 0.3219,  0.0586,  0.3628],\n",
            "        [-0.0139,  0.1320, -0.2734]], requires_grad=True)\n",
            "Parameter containing:\n",
            "tensor([-0.4300, -0.1504], requires_grad=True)\n",
            "\n",
            "\n",
            "Output:\n",
            "tensor([[-0.0718, -0.1230]], grad_fn=<AddmmBackward0>)\n"
          ]
        }
      ],
      "source": [
        "lin = torch.nn.Linear(3, 2)\n",
        "x = torch.rand(1, 3)\n",
        "print('Input:')\n",
        "print(x)\n",
        "\n",
        "print('\\n\\nWeight and Bias parameters:')\n",
        "for param in lin.parameters():\n",
        "    print(param)\n",
        "\n",
        "y = lin(x)\n",
        "print('\\n\\nOutput:')\n",
        "print(y)"
      ]
    },
    {
      "cell_type": "markdown",
      "metadata": {
        "id": "bFyPH0jMCbkF"
      },
      "source": [
        "If you do the matrix multiplication of ``x`` by the linear layer’s\n",
        "weights, and add the biases, you’ll find that you get the output vector\n",
        "``y``.\n",
        "\n",
        "One other important feature to note: When we checked the weights of our\n",
        "layer with ``lin.weight``, it reported itself as a ``Parameter`` (which\n",
        "is a subclass of ``Tensor``), and let us know that it’s tracking\n",
        "gradients with autograd. This is a default behavior for ``Parameter``\n",
        "that differs from ``Tensor``.\n",
        "\n",
        "Linear layers are used widely in deep learning models. One of the most\n",
        "common places you’ll see them is in classifier models, which will\n",
        "usually have one or more linear layers at the end, where the last layer\n",
        "will have *n* outputs, where *n* is the number of classes the classifier\n",
        "addresses.\n",
        "\n",
        "### Convolutional Layers\n",
        "\n",
        "*Convolutional* layers are built to handle data with a high degree of\n",
        "spatial correlation. They are very commonly used in computer vision,\n",
        "where they detect close groupings of features which the compose into\n",
        "higher-level features. They pop up in other contexts too - for example,\n",
        "in NLP applications, where a word’s immediate context (that is, the\n",
        "other words nearby in the sequence) can affect the meaning of a\n",
        "sentence.\n",
        "\n",
        "We saw convolutional layers in action in LeNet5 in an earlier video:\n",
        "\n",
        "\n"
      ]
    },
    {
      "cell_type": "code",
      "execution_count": 8,
      "metadata": {
        "id": "JR8Bfq0eCbkG"
      },
      "outputs": [],
      "source": [
        "import torch.functional as F\n",
        "\n",
        "\n",
        "class LeNet(torch.nn.Module):\n",
        "\n",
        "    def __init__(self):\n",
        "        super(LeNet, self).__init__()\n",
        "        # 1 input image channel (black & white), 6 output channels, 5x5 square convolution\n",
        "        # kernel\n",
        "        self.conv1 = torch.nn.Conv2d(1, 6, 5)\n",
        "        self.conv2 = torch.nn.Conv2d(6, 16, 3)\n",
        "        # an affine operation: y = Wx + b\n",
        "        self.fc1 = torch.nn.Linear(16 * 6 * 6, 120)  # 6*6 from image dimension\n",
        "        self.fc2 = torch.nn.Linear(120, 84)\n",
        "        self.fc3 = torch.nn.Linear(84, 10)\n",
        "\n",
        "    def forward(self, x):\n",
        "        # Max pooling over a (2, 2) window\n",
        "        x = F.max_pool2d(F.relu(self.conv1(x)), (2, 2))\n",
        "        # If the size is a square you can only specify a single number\n",
        "        x = F.max_pool2d(F.relu(self.conv2(x)), 2)\n",
        "        x = x.view(-1, self.num_flat_features(x))\n",
        "        x = F.relu(self.fc1(x))\n",
        "        x = F.relu(self.fc2(x))\n",
        "        x = self.fc3(x)\n",
        "        return x\n",
        "\n",
        "    def num_flat_features(self, x):\n",
        "        size = x.size()[1:]  # all dimensions except the batch dimension\n",
        "        num_features = 1\n",
        "        for s in size:\n",
        "            num_features *= s\n",
        "        return num_features"
      ]
    },
    {
      "cell_type": "markdown",
      "metadata": {
        "id": "PeOXFqTqCbkG"
      },
      "source": [
        "Let’s break down what’s happening in the convolutional layers of this\n",
        "model. Starting with ``conv1``:\n",
        "\n",
        "-  LeNet5 is meant to take in a 1x32x32 black & white image. **The first\n",
        "   argument to a convolutional layer’s constructor is the number of\n",
        "   input channels.** Here, it is 1. If we were building this model to\n",
        "   look at 3-color channels, it would be 3.\n",
        "-  A convolutional layer is like a window that scans over the image,\n",
        "   looking for a pattern it recognizes. These patterns are called\n",
        "   *features,* and one of the parameters of a convolutional layer is the\n",
        "   number of features we would like it to learn. **This is the second\n",
        "   argument to the constructor is the number of output features.** Here,\n",
        "   we’re asking our layer to learn 6 features.\n",
        "-  Just above, I likened the convolutional layer to a window - but how\n",
        "   big is the window? **The third argument is the window or kernel\n",
        "   size.** Here, the “5” means we’ve chosen a 5x5 kernel. (If you want a\n",
        "   kernel with height different from width, you can specify a tuple for\n",
        "   this argument - e.g., ``(3, 5)`` to get a 3x5 convolution kernel.)\n",
        "\n",
        "The output of a convolutional layer is an *activation map* - a spatial\n",
        "representation of the presence of features in the input tensor.\n",
        "``conv1`` will give us an output tensor of 6x28x28; 6 is the number of\n",
        "features, and 28 is the height and width of our map. (The 28 comes from\n",
        "the fact that when scanning a 5-pixel window over a 32-pixel row, there\n",
        "are only 28 valid positions.)\n",
        "\n",
        "We then pass the output of the convolution through a ReLU activation\n",
        "function (more on activation functions later), then through a max\n",
        "pooling layer. The max pooling layer takes features near each other in\n",
        "the activation map and groups them together. It does this by reducing\n",
        "the tensor, merging every 2x2 group of cells in the output into a single\n",
        "cell, and assigning that cell the maximum value of the 4 cells that went\n",
        "into it. This gives us a lower-resolution version of the activation map,\n",
        "with dimensions 6x14x14.\n",
        "\n",
        "Our next convolutional layer, ``conv2``, expects 6 input channels\n",
        "(corresponding to the 6 features sought by the first layer), has 16\n",
        "output channels, and a 3x3 kernel. It puts out a 16x12x12 activation\n",
        "map, which is again reduced by a max pooling layer to 16x6x6. Prior to\n",
        "passing this output to the linear layers, it is reshaped to a 16 \\* 6 \\*\n",
        "6 = 576-element vector for consumption by the next layer.\n",
        "\n",
        "There are convolutional layers for addressing 1D, 2D, and 3D tensors.\n",
        "There are also many more optional arguments for a conv layer\n",
        "constructor, including stride length(e.g., only scanning every second or\n",
        "every third position) in the input, padding (so you can scan out to the\n",
        "edges of the input), and more. See the\n",
        "[documentation](https://pytorch.org/docs/stable/nn.html#convolution-layers)_\n",
        "for more information.\n",
        "\n",
        "### Recurrent Layers\n",
        "\n",
        "*Recurrent neural networks* (or *RNNs)* are used for sequential data -\n",
        "anything from time-series measurements from a scientific instrument to\n",
        "natural language sentences to DNA nucleotides. An RNN does this by\n",
        "maintaining a *hidden state* that acts as a sort of memory for what it\n",
        "has seen in the sequence so far.\n",
        "\n",
        "The internal structure of an RNN layer - or its variants, the LSTM (long\n",
        "short-term memory) and GRU (gated recurrent unit) - is moderately\n",
        "complex and beyond the scope of this video, but we’ll show you what one\n",
        "looks like in action with an LSTM-based part-of-speech tagger (a type of\n",
        "classifier that tells you if a word is a noun, verb, etc.):\n",
        "\n",
        "\n"
      ]
    },
    {
      "cell_type": "code",
      "execution_count": 9,
      "metadata": {
        "id": "pimDQcP_CbkG"
      },
      "outputs": [],
      "source": [
        "class LSTMTagger(torch.nn.Module):\n",
        "\n",
        "    def __init__(self, embedding_dim, hidden_dim, vocab_size, tagset_size):\n",
        "        super(LSTMTagger, self).__init__()\n",
        "        self.hidden_dim = hidden_dim\n",
        "\n",
        "        self.word_embeddings = torch.nn.Embedding(vocab_size, embedding_dim)\n",
        "\n",
        "        # The LSTM takes word embeddings as inputs, and outputs hidden states\n",
        "        # with dimensionality hidden_dim.\n",
        "        self.lstm = torch.nn.LSTM(embedding_dim, hidden_dim)\n",
        "\n",
        "        # The linear layer that maps from hidden state space to tag space\n",
        "        self.hidden2tag = torch.nn.Linear(hidden_dim, tagset_size)\n",
        "\n",
        "    def forward(self, sentence):\n",
        "        embeds = self.word_embeddings(sentence)\n",
        "        lstm_out, _ = self.lstm(embeds.view(len(sentence), 1, -1))\n",
        "        tag_space = self.hidden2tag(lstm_out.view(len(sentence), -1))\n",
        "        tag_scores = F.log_softmax(tag_space, dim=1)\n",
        "        return tag_scores"
      ]
    },
    {
      "cell_type": "markdown",
      "metadata": {
        "id": "C8hFAWdXCbkH"
      },
      "source": [
        "The constructor has four arguments:\n",
        "\n",
        "-  ``vocab_size`` is the number of words in the input vocabulary. Each\n",
        "   word is a one-hot vector (or unit vector) in a\n",
        "   ``vocab_size``-dimensional space.\n",
        "-  ``tagset_size`` is the number of tags in the output set.\n",
        "-  ``embedding_dim`` is the size of the *embedding* space for the\n",
        "   vocabulary. An embedding maps a vocabulary onto a low-dimensional\n",
        "   space, where words with similar meanings are close together in the\n",
        "   space.\n",
        "-  ``hidden_dim`` is the size of the LSTM’s memory.\n",
        "\n",
        "The input will be a sentence with the words represented as indices of\n",
        "one-hot vectors. The embedding layer will then map these down to an\n",
        "``embedding_dim``-dimensional space. The LSTM takes this sequence of\n",
        "embeddings and iterates over it, fielding an output vector of length\n",
        "``hidden_dim``. The final linear layer acts as a classifier; applying\n",
        "``log_softmax()`` to the output of the final layer converts the output\n",
        "into a normalized set of estimated probabilities that a given word maps\n",
        "to a given tag.\n",
        "\n",
        "If you’d like to see this network in action, check out the [Sequence\n",
        "Models and LSTM\n",
        "Networks](https://pytorch.org/tutorials/beginner/nlp/sequence_models_tutorial.html)_\n",
        "tutorial on pytorch.org.\n",
        "\n",
        "### Transformers\n",
        "\n",
        "*Transformers* are multi-purpose networks that have taken over the state\n",
        "of the art in NLP with models like BERT. A discussion of transformer\n",
        "architecture is beyond the scope of this video, but PyTorch has a\n",
        "``Transformer`` class that allows you to define the overall parameters\n",
        "of a transformer model - the number of attention heads, the number of\n",
        "encoder & decoder layers, dropout and activation functions, etc. (You\n",
        "can even build the BERT model from this single class, with the right\n",
        "parameters!) The ``torch.nn.Transformer`` class also has classes to\n",
        "encapsulate the individual components (``TransformerEncoder``,\n",
        "``TransformerDecoder``) and subcomponents (``TransformerEncoderLayer``,\n",
        "``TransformerDecoderLayer``). For details, check out the\n",
        "[documentation](https://pytorch.org/docs/stable/nn.html#transformer-layers)_\n",
        "on transformer classes, and the relevant\n",
        "[tutorial](https://pytorch.org/tutorials/beginner/transformer_tutorial.html)_\n",
        "on pytorch.org.\n",
        "\n",
        "## Other Layers and Functions\n",
        "\n",
        "### Data Manipulation Layers\n",
        "\n",
        "There are other layer types that perform important functions in models,\n",
        "but don’t participate in the learning process themselves.\n",
        "\n",
        "**Max pooling** (and its twin, min pooling) reduce a tensor by combining\n",
        "cells, and assigning the maximum value of the input cells to the output\n",
        "cell (we saw this). For example:\n",
        "\n",
        "\n"
      ]
    },
    {
      "cell_type": "code",
      "execution_count": 14,
      "metadata": {
        "id": "sBckWVSKCbkH",
        "outputId": "2b9aec1c-37c7-43f0-e240-dff83130495f",
        "colab": {
          "base_uri": "https://localhost:8080/"
        }
      },
      "outputs": [
        {
          "output_type": "stream",
          "name": "stdout",
          "text": [
            "tensor([[[0.1361, 0.0835, 0.8240, 0.9756, 0.0490, 0.6329],\n",
            "         [0.0930, 0.8303, 0.5693, 0.0149, 0.5397, 0.1582],\n",
            "         [0.5737, 0.1467, 0.0251, 0.8907, 0.7680, 0.8801],\n",
            "         [0.6382, 0.1181, 0.5209, 0.2451, 0.0364, 0.3940],\n",
            "         [0.3327, 0.0290, 0.4197, 0.3911, 0.4498, 0.6143],\n",
            "         [0.2942, 0.4508, 0.9822, 0.3371, 0.7270, 0.9948]]])\n",
            "tensor([[[0.8303, 0.9756, 0.6329],\n",
            "         [0.6382, 0.8907, 0.8801],\n",
            "         [0.4508, 0.9822, 0.9948]]])\n"
          ]
        }
      ],
      "source": [
        "my_tensor = torch.rand(1, 6, 6)\n",
        "print(my_tensor)\n",
        "\n",
        "maxpool_layer = torch.nn.MaxPool2d(2)\n",
        "print(maxpool_layer(my_tensor))"
      ]
    },
    {
      "cell_type": "markdown",
      "metadata": {
        "id": "fe6odUO1CbkH"
      },
      "source": [
        "If you look closely at the values above, you’ll see that each of the\n",
        "values in the maxpooled output is the maximum value of each quadrant of\n",
        "the 6x6 input.\n",
        "\n",
        "**Normalization layers** re-center and normalize the output of one layer\n",
        "before feeding it to another. Centering and scaling the intermediate\n",
        "tensors has a number of beneficial effects, such as letting you use\n",
        "higher learning rates without exploding/vanishing gradients.\n",
        "\n",
        "\n"
      ]
    },
    {
      "cell_type": "code",
      "execution_count": 19,
      "metadata": {
        "id": "k5aRDkFdCbkH",
        "outputId": "02c6b30f-4dc9-4a8b-bf82-8ebafed0b877",
        "colab": {
          "base_uri": "https://localhost:8080/"
        }
      },
      "outputs": [
        {
          "output_type": "stream",
          "name": "stdout",
          "text": [
            "tensor([[[ 8.0452,  6.2611, 12.9126, 14.9302],\n",
            "         [11.4219, 23.7028,  6.5461, 21.0359],\n",
            "         [23.9100, 11.6377,  9.4620, 15.0772],\n",
            "         [24.1096,  6.3288, 17.1924, 23.9731]]])\n",
            "tensor(14.7842)\n",
            "tensor([[[-0.7089, -1.2164,  0.6757,  1.2496],\n",
            "         [-0.6100,  1.1507, -1.3090,  0.7683],\n",
            "         [ 1.6136, -0.6144, -1.0093,  0.0101],\n",
            "         [ 0.8572, -1.5977, -0.0978,  0.8384]]],\n",
            "       grad_fn=<NativeBatchNormBackward0>)\n",
            "tensor(-2.2352e-08, grad_fn=<MeanBackward0>)\n"
          ]
        }
      ],
      "source": [
        "my_tensor = torch.rand(1, 4, 4) * 20 + 5\n",
        "print(my_tensor)\n",
        "\n",
        "print(my_tensor.mean())\n",
        "\n",
        "norm_layer = torch.nn.BatchNorm1d(4)\n",
        "normed_tensor = norm_layer(my_tensor)\n",
        "print(normed_tensor)\n",
        "\n",
        "print(normed_tensor.mean())"
      ]
    },
    {
      "cell_type": "markdown",
      "metadata": {
        "id": "285FAwbUCbkH"
      },
      "source": [
        "Running the cell above, we’ve added a large scaling factor and offset to\n",
        "an input tensor; you should see the input tensor’s ``mean()`` somewhere\n",
        "in the neighborhood of 15. After running it through the normalization\n",
        "layer, you can see that the values are smaller, and grouped around zero\n",
        "- in fact, the mean should be very small (> 1e-8).\n",
        "\n",
        "This is beneficial because many activation functions (discussed below)\n",
        "have their strongest gradients near 0, but sometimes suffer from\n",
        "vanishing or exploding gradients for inputs that drive them far away\n",
        "from zero. Keeping the data centered around the area of steepest\n",
        "gradient will tend to mean faster, better learning and higher feasible\n",
        "learning rates.\n",
        "\n",
        "**Dropout layers** are a tool for encouraging *sparse representations*\n",
        "in your model - that is, pushing it to do inference with less data.\n",
        "\n",
        "Dropout layers work by randomly setting parts of the input tensor\n",
        "*during training* - dropout layers are always turned off for inference.\n",
        "This forces the model to learn against this masked or reduced dataset.\n",
        "For example:\n",
        "\n",
        "\n"
      ]
    },
    {
      "cell_type": "code",
      "execution_count": 20,
      "metadata": {
        "id": "Yhv0ZACfCbkH",
        "outputId": "f6da36c5-adc2-49f7-aeaa-080b4b2723f4",
        "colab": {
          "base_uri": "https://localhost:8080/"
        }
      },
      "outputs": [
        {
          "output_type": "stream",
          "name": "stdout",
          "text": [
            "tensor([[[0.4639, 0.0000, 0.8607, 0.0000],\n",
            "         [0.0000, 1.2789, 0.0000, 0.5778],\n",
            "         [0.0000, 1.3604, 1.0753, 0.8815],\n",
            "         [0.8876, 1.2395, 0.0000, 0.0000]]])\n",
            "tensor([[[0.4639, 0.0000, 0.0000, 1.0230],\n",
            "         [0.8252, 1.2789, 0.0000, 0.0000],\n",
            "         [0.0000, 0.0000, 1.0753, 0.8815],\n",
            "         [0.8876, 0.0000, 0.9415, 0.0000]]])\n"
          ]
        }
      ],
      "source": [
        "my_tensor = torch.rand(1, 4, 4)\n",
        "\n",
        "dropout = torch.nn.Dropout(p=0.4)\n",
        "print(dropout(my_tensor))\n",
        "print(dropout(my_tensor))"
      ]
    },
    {
      "cell_type": "markdown",
      "metadata": {
        "id": "5yiUKIsfCbkH"
      },
      "source": [
        "Above, you can see the effect of dropout on a sample tensor. You can use\n",
        "the optional ``p`` argument to set the probability of an individual\n",
        "weight dropping out; if you don’t it defaults to 0.5.\n",
        "\n",
        "### Activation Functions\n",
        "\n",
        "Activation functions make deep learning possible. A neural network is\n",
        "really a program - with many parameters - that *simulates a mathematical\n",
        "function*. If all we did was multiple tensors by layer weights\n",
        "repeatedly, we could only simulate *linear functions;* further, there\n",
        "would be no point to having many layers, as the whole network would\n",
        "reduce could be reduced to a single matrix multiplication. Inserting\n",
        "*non-linear* activation functions between layers is what allows a deep\n",
        "learning model to simulate any function, rather than just linear ones.\n",
        "\n",
        "``torch.nn.Module`` has objects encapsulating all of the major\n",
        "activation functions including ReLU and its many variants, Tanh,\n",
        "Hardtanh, sigmoid, and more. It also includes other functions, such as\n",
        "Softmax, that are most useful at the output stage of a model.\n",
        "\n",
        "### Loss Functions\n",
        "\n",
        "Loss functions tell us how far a model’s prediction is from the correct\n",
        "answer. PyTorch contains a variety of loss functions, including common\n",
        "MSE (mean squared error = L2 norm), Cross Entropy Loss and Negative\n",
        "Likelihood Loss (useful for classifiers), and others.\n",
        "\n",
        "\n"
      ]
    }
  ],
  "metadata": {
    "kernelspec": {
      "display_name": "Python 3",
      "language": "python",
      "name": "python3"
    },
    "language_info": {
      "codemirror_mode": {
        "name": "ipython",
        "version": 3
      },
      "file_extension": ".py",
      "mimetype": "text/x-python",
      "name": "python",
      "nbconvert_exporter": "python",
      "pygments_lexer": "ipython3",
      "version": "3.10.13"
    },
    "colab": {
      "provenance": []
    }
  },
  "nbformat": 4,
  "nbformat_minor": 0
}