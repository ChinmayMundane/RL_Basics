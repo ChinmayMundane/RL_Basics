{
  "cells": [
    {
      "cell_type": "code",
      "execution_count": 11,
      "metadata": {
        "id": "Kcju8-MAZlTP"
      },
      "outputs": [],
      "source": [
        "# For tips on running notebooks in Google Colab, see\n",
        "# https://pytorch.org/tutorials/beginner/colab\n",
        "%matplotlib inline"
      ]
    },
    {
      "cell_type": "markdown",
      "metadata": {
        "id": "QVT7khBSZlTR"
      },
      "source": [
        "\n",
        "[Introduction](introyt1_tutorial.html) ||\n",
        "[Tensors](tensors_deeper_tutorial.html) ||\n",
        "[Autograd](autogradyt_tutorial.html) ||\n",
        "[Building Models](modelsyt_tutorial.html) ||\n",
        "[TensorBoard Support](tensorboardyt_tutorial.html) ||\n",
        "**Training Models** ||\n",
        "[Model Understanding](captumyt.html)\n",
        "\n",
        "# Training with PyTorch\n",
        "\n",
        "Follow along with the video below or on [youtube](https://www.youtube.com/watch?v=jF43_wj_DCQ)_.\n",
        "\n",
        ".. raw:: html\n",
        "\n",
        "   <div style=\"margin-top:10px; margin-bottom:10px;\">\n",
        "     <iframe width=\"560\" height=\"315\" src=\"https://www.youtube.com/embed/jF43_wj_DCQ\" frameborder=\"0\" allow=\"accelerometer; encrypted-media; gyroscope; picture-in-picture\" allowfullscreen></iframe>\n",
        "   </div>\n",
        "\n",
        "## Introduction\n",
        "\n",
        "In past videos, we’ve discussed and demonstrated:\n",
        "\n",
        "- Building models with the neural network layers and functions of the torch.nn module\n",
        "- The mechanics of automated gradient computation, which is central to\n",
        "  gradient-based model training\n",
        "- Using TensorBoard to visualize training progress and other activities\n",
        "\n",
        "In this video, we’ll be adding some new tools to your inventory:\n",
        "\n",
        "- We’ll get familiar with the dataset and dataloader abstractions, and how\n",
        "  they ease the process of feeding data to your model during a training loop\n",
        "- We’ll discuss specific loss functions and when to use them\n",
        "- We’ll look at PyTorch optimizers, which implement algorithms to adjust\n",
        "  model weights based on the outcome of a loss function\n",
        "\n",
        "Finally, we’ll pull all of these together and see a full PyTorch\n",
        "training loop in action.\n",
        "\n",
        "\n",
        "## Dataset and DataLoader\n",
        "\n",
        "The ``Dataset`` and ``DataLoader`` classes encapsulate the process of\n",
        "pulling your data from storage and exposing it to your training loop in\n",
        "batches.\n",
        "\n",
        "The ``Dataset`` is responsible for accessing and processing single\n",
        "instances of data.\n",
        "\n",
        "The ``DataLoader`` pulls instances of data from the ``Dataset`` (either\n",
        "automatically or with a sampler that you define), collects them in\n",
        "batches, and returns them for consumption by your training loop. The\n",
        "``DataLoader`` works with all kinds of datasets, regardless of the type\n",
        "of data they contain.\n",
        "\n",
        "For this tutorial, we’ll be using the Fashion-MNIST dataset provided by\n",
        "TorchVision. We use ``torchvision.transforms.Normalize()`` to\n",
        "zero-center and normalize the distribution of the image tile content,\n",
        "and download both training and validation data splits.\n"
      ]
    },
    {
      "cell_type": "code",
      "execution_count": 12,
      "metadata": {
        "colab": {
          "base_uri": "https://localhost:8080/"
        },
        "id": "MsA0Vk0NZlTS",
        "outputId": "c203298e-02c1-445a-89b0-8b218347bf93"
      },
      "outputs": [
        {
          "output_type": "stream",
          "name": "stdout",
          "text": [
            "Training set has 60000 instances\n",
            "Validation set has 10000 instances\n"
          ]
        }
      ],
      "source": [
        "import torch\n",
        "import torchvision\n",
        "import torchvision.transforms as transforms\n",
        "\n",
        "# PyTorch TensorBoard support\n",
        "from torch.utils.tensorboard import SummaryWriter\n",
        "from datetime import datetime\n",
        "\n",
        "\n",
        "transform = transforms.Compose(\n",
        "    [transforms.ToTensor(),\n",
        "    transforms.Normalize((0.5,), (0.5,))])\n",
        "\n",
        "# Create datasets for training & validation, download if necessary\n",
        "training_set = torchvision.datasets.FashionMNIST('./data', train=True, transform=transform, download=True)\n",
        "validation_set = torchvision.datasets.FashionMNIST('./data', train=False, transform=transform, download=True)\n",
        "\n",
        "# Create data loaders for our datasets; shuffle for training, not for validation\n",
        "training_loader = torch.utils.data.DataLoader(training_set, batch_size=4, shuffle=True)\n",
        "validation_loader = torch.utils.data.DataLoader(validation_set, batch_size=4, shuffle=False)\n",
        "\n",
        "# Class labels\n",
        "classes = ('T-shirt/top', 'Trouser', 'Pullover', 'Dress', 'Coat',\n",
        "        'Sandal', 'Shirt', 'Sneaker', 'Bag', 'Ankle Boot')\n",
        "\n",
        "# Report split sizes\n",
        "print('Training set has {} instances'.format(len(training_set)))\n",
        "print('Validation set has {} instances'.format(len(validation_set)))"
      ]
    },
    {
      "cell_type": "markdown",
      "metadata": {
        "id": "XZaPExArZlTT"
      },
      "source": [
        "As always, let’s visualize the data as a sanity check:\n",
        "\n",
        "\n"
      ]
    },
    {
      "cell_type": "code",
      "execution_count": 13,
      "metadata": {
        "colab": {
          "base_uri": "https://localhost:8080/",
          "height": 211
        },
        "id": "rKFkqhzbZlTT",
        "outputId": "39b27791-a787-4b6a-cde3-4438877f4175"
      },
      "outputs": [
        {
          "output_type": "stream",
          "name": "stdout",
          "text": [
            "Sandal  Dress  Sneaker  Sandal\n"
          ]
        },
        {
          "output_type": "display_data",
          "data": {
            "text/plain": [
              "<Figure size 640x480 with 1 Axes>"
            ],
            "image/png": "[encoded data removed]"
          },
          "metadata": {}
        }
      ],
      "source": [
        "import matplotlib.pyplot as plt\n",
        "import numpy as np\n",
        "\n",
        "# Helper function for inline image display\n",
        "def matplotlib_imshow(img, one_channel=False):\n",
        "    if one_channel:\n",
        "        img = img.mean(dim=0)\n",
        "    img = img / 2 + 0.5     # unnormalize\n",
        "    npimg = img.numpy()\n",
        "    if one_channel:\n",
        "        plt.imshow(npimg, cmap=\"Greys\")\n",
        "    else:\n",
        "        plt.imshow(np.transpose(npimg, (1, 2, 0)))\n",
        "\n",
        "dataiter = iter(training_loader)\n",
        "images, labels = next(dataiter)\n",
        "\n",
        "# Create a grid from the images and show them\n",
        "img_grid = torchvision.utils.make_grid(images)\n",
        "matplotlib_imshow(img_grid, one_channel=True)\n",
        "print('  '.join(classes[labels[j]] for j in range(4)))"
      ]
    },
    {
      "cell_type": "markdown",
      "metadata": {
        "id": "u4xJ1oemZlTT"
      },
      "source": [
        "## The Model\n",
        "\n",
        "The model we’ll use in this example is a variant of LeNet-5 - it should\n",
        "be familiar if you’ve watched the previous videos in this series.\n",
        "\n",
        "\n"
      ]
    },
    {
      "cell_type": "code",
      "execution_count": 14,
      "metadata": {
        "id": "kcmYhtNbZlTU"
      },
      "outputs": [],
      "source": [
        "import torch.nn as nn\n",
        "import torch.nn.functional as F\n",
        "\n",
        "# PyTorch models inherit from torch.nn.Module\n",
        "class GarmentClassifier(nn.Module):\n",
        "    def __init__(self):\n",
        "        super(GarmentClassifier, self).__init__()\n",
        "        self.conv1 = nn.Conv2d(1, 6, 5)\n",
        "        self.pool = nn.MaxPool2d(2, 2)\n",
        "        self.conv2 = nn.Conv2d(6, 16, 5)\n",
        "        self.fc1 = nn.Linear(16 * 4 * 4, 120)\n",
        "        self.fc2 = nn.Linear(120, 84)\n",
        "        self.fc3 = nn.Linear(84, 10)\n",
        "\n",
        "    def forward(self, x):\n",
        "        x = self.pool(F.relu(self.conv1(x)))\n",
        "        x = self.pool(F.relu(self.conv2(x)))\n",
        "        x = x.view(-1, 16 * 4 * 4)\n",
        "        x = F.relu(self.fc1(x))\n",
        "        x = F.relu(self.fc2(x))\n",
        "        x = self.fc3(x)\n",
        "        return x\n",
        "\n",
        "\n",
        "model = GarmentClassifier()"
      ]
    },
    {
      "cell_type": "markdown",
      "metadata": {
        "id": "4PoiwTXGZlTU"
      },
      "source": [
        "## Loss Function\n",
        "\n",
        "For this example, we’ll be using a cross-entropy loss. For demonstration\n",
        "purposes, we’ll create batches of dummy output and label values, run\n",
        "them through the loss function, and examine the result.\n",
        "\n",
        "\n"
      ]
    },
    {
      "cell_type": "code",
      "execution_count": 15,
      "metadata": {
        "colab": {
          "base_uri": "https://localhost:8080/"
        },
        "id": "__CME1kCZlTU",
        "outputId": "a9b30710-1fdd-4c9d-f88e-b075271c7d48"
      },
      "outputs": [
        {
          "output_type": "stream",
          "name": "stdout",
          "text": [
            "tensor([[0.9237, 0.0955, 0.5142, 0.0596, 0.1028, 0.9816, 0.1049, 0.1339, 0.8214,\n",
            "         0.0895],\n",
            "        [0.4981, 0.2786, 0.6498, 0.3718, 0.7057, 0.0780, 0.8759, 0.7330, 0.5927,\n",
            "         0.7002],\n",
            "        [0.1530, 0.5660, 0.0452, 0.6677, 0.5103, 0.8187, 0.2002, 0.8206, 0.7376,\n",
            "         0.0897],\n",
            "        [0.5484, 0.4590, 0.0633, 0.4529, 0.8946, 0.2137, 0.8181, 0.2439, 0.1935,\n",
            "         0.1662]])\n",
            "tensor([1, 5, 3, 7])\n",
            "Total loss for this batch: 2.5247035026550293\n"
          ]
        }
      ],
      "source": [
        "loss_fn = torch.nn.CrossEntropyLoss()\n",
        "\n",
        "# NB: Loss functions expect data in batches, so we're creating batches of 4\n",
        "# Represents the model's confidence in each of the 10 classes for a given input\n",
        "dummy_outputs = torch.rand(4, 10)\n",
        "# Represents the correct class among the 10 being tested\n",
        "dummy_labels = torch.tensor([1, 5, 3, 7])\n",
        "\n",
        "print(dummy_outputs)\n",
        "print(dummy_labels)\n",
        "\n",
        "loss = loss_fn(dummy_outputs, dummy_labels)\n",
        "print('Total loss for this batch: {}'.format(loss.item()))"
      ]
    },
    {
      "cell_type": "markdown",
      "metadata": {
        "id": "i4I-pcdSZlTU"
      },
      "source": [
        "## Optimizer\n",
        "\n",
        "For this example, we’ll be using simple [stochastic gradient\n",
        "descent](https://pytorch.org/docs/stable/optim.html)_ with momentum.\n",
        "\n",
        "It can be instructive to try some variations on this optimization\n",
        "scheme:\n",
        "\n",
        "- Learning rate determines the size of the steps the optimizer\n",
        "  takes. What does a different learning rate do to the your training\n",
        "  results, in terms of accuracy and convergence time?\n",
        "- Momentum nudges the optimizer in the direction of strongest gradient over\n",
        "  multiple steps. What does changing this value do to your results?\n",
        "- Try some different optimization algorithms, such as averaged SGD, Adagrad, or\n",
        "  Adam. How do your results differ?\n",
        "\n",
        "\n"
      ]
    },
    {
      "cell_type": "code",
      "execution_count": 16,
      "metadata": {
        "id": "n-5GOPVJZlTV"
      },
      "outputs": [],
      "source": [
        "# Optimizers specified in the torch.optim package\n",
        "optimizer = torch.optim.SGD(model.parameters(), lr=0.001, momentum=0.9)"
      ]
    },
    {
      "cell_type": "markdown",
      "metadata": {
        "id": "hKjPfRQoZlTV"
      },
      "source": [
        "## The Training Loop\n",
        "\n",
        "Below, we have a function that performs one training epoch. It\n",
        "enumerates data from the DataLoader, and on each pass of the loop does\n",
        "the following:\n",
        "\n",
        "- Gets a batch of training data from the DataLoader\n",
        "- Zeros the optimizer’s gradients\n",
        "- Performs an inference - that is, gets predictions from the model for an input batch\n",
        "- Calculates the loss for that set of predictions vs. the labels on the dataset\n",
        "- Calculates the backward gradients over the learning weights\n",
        "- Tells the optimizer to perform one learning step - that is, adjust the model’s\n",
        "  learning weights based on the observed gradients for this batch, according to the\n",
        "  optimization algorithm we chose\n",
        "- It reports on the loss for every 1000 batches.\n",
        "- Finally, it reports the average per-batch loss for the last\n",
        "  1000 batches, for comparison with a validation run\n",
        "\n",
        "\n"
      ]
    },
    {
      "cell_type": "code",
      "execution_count": 17,
      "metadata": {
        "id": "8NQKuxlRZlTV"
      },
      "outputs": [],
      "source": [
        "def train_one_epoch(epoch_index, tb_writer):\n",
        "    running_loss = 0.\n",
        "    last_loss = 0.\n",
        "\n",
        "    # Here, we use enumerate(training_loader) instead of\n",
        "    # iter(training_loader) so that we can track the batch\n",
        "    # index and do some intra-epoch reporting\n",
        "    for i, data in enumerate(training_loader):\n",
        "        # Every data instance is an input + label pair\n",
        "        inputs, labels = data\n",
        "\n",
        "        # Zero your gradients for every batch!\n",
        "        optimizer.zero_grad()\n",
        "\n",
        "        # Make predictions for this batch\n",
        "        outputs = model(inputs)\n",
        "\n",
        "        # Compute the loss and its gradients\n",
        "        loss = loss_fn(outputs, labels)\n",
        "        loss.backward()\n",
        "\n",
        "        # Adjust learning weights\n",
        "        optimizer.step()\n",
        "\n",
        "        # Gather data and report\n",
        "        running_loss += loss.item()\n",
        "        if i % 1000 == 999:\n",
        "            last_loss = running_loss / 1000 # loss per batch\n",
        "            print('  batch {} loss: {}'.format(i + 1, last_loss))\n",
        "            tb_x = epoch_index * len(training_loader) + i + 1\n",
        "            tb_writer.add_scalar('Loss/train', last_loss, tb_x)\n",
        "            running_loss = 0.\n",
        "\n",
        "    return last_loss"
      ]
    },
    {
      "cell_type": "markdown",
      "metadata": {
        "id": "Hy7EHa5qZlTV"
      },
      "source": [
        "### Per-Epoch Activity\n",
        "\n",
        "There are a couple of things we’ll want to do once per epoch:\n",
        "\n",
        "- Perform validation by checking our relative loss on a set of data that was not\n",
        "  used for training, and report this\n",
        "- Save a copy of the model\n",
        "\n",
        "Here, we’ll do our reporting in TensorBoard. This will require going to\n",
        "the command line to start TensorBoard, and opening it in another browser\n",
        "tab.\n",
        "\n",
        "\n"
      ]
    },
    {
      "cell_type": "code",
      "execution_count": 18,
      "metadata": {
        "colab": {
          "base_uri": "https://localhost:8080/"
        },
        "id": "hFrkL4gfZlTV",
        "outputId": "00183c14-eb05-4d15-9f87-3b1a3a8c48c4"
      },
      "outputs": [
        {
          "output_type": "stream",
          "name": "stdout",
          "text": [
            "EPOCH 1:\n",
            "  batch 1000 loss: 1.9134703087955713\n",
            "  batch 2000 loss: 0.8679260069858283\n",
            "  batch 3000 loss: 0.7154494119174778\n",
            "  batch 4000 loss: 0.6407170181097462\n",
            "  batch 5000 loss: 0.5944213741454296\n",
            "  batch 6000 loss: 0.5663160360688344\n",
            "  batch 7000 loss: 0.5484100015713484\n",
            "  batch 8000 loss: 0.5247771346544032\n",
            "  batch 9000 loss: 0.49886331983126003\n",
            "  batch 10000 loss: 0.5104458299553953\n",
            "  batch 11000 loss: 0.443145169301657\n",
            "  batch 12000 loss: 0.4525589043601067\n",
            "  batch 13000 loss: 0.44708984535979107\n",
            "  batch 14000 loss: 0.4478690880807117\n",
            "  batch 15000 loss: 0.42510766262933614\n",
            "LOSS train 0.42510766262933614 valid 0.4614435136318207\n",
            "EPOCH 2:\n",
            "  batch 1000 loss: 0.4182675359456625\n",
            "  batch 2000 loss: 0.4249544003147166\n",
            "  batch 3000 loss: 0.40716035268089035\n",
            "  batch 4000 loss: 0.4124116068705334\n",
            "  batch 5000 loss: 0.4186039264932042\n",
            "  batch 6000 loss: 0.3861529780455166\n",
            "  batch 7000 loss: 0.39799887613597096\n",
            "  batch 8000 loss: 0.3833318510921672\n",
            "  batch 9000 loss: 0.37151633663661776\n",
            "  batch 10000 loss: 0.36280501480272503\n",
            "  batch 11000 loss: 0.3610095976326265\n",
            "  batch 12000 loss: 0.3466793509068666\n",
            "  batch 13000 loss: 0.36619388310570505\n",
            "  batch 14000 loss: 0.33676684568217025\n",
            "  batch 15000 loss: 0.3598644724847982\n",
            "LOSS train 0.3598644724847982 valid 0.38322266936302185\n",
            "EPOCH 3:\n",
            "  batch 1000 loss: 0.34496992404916094\n",
            "  batch 2000 loss: 0.3277505170973309\n",
            "  batch 3000 loss: 0.35498693662774167\n",
            "  batch 4000 loss: 0.320740460210829\n",
            "  batch 5000 loss: 0.3427705236434922\n",
            "  batch 6000 loss: 0.33196066492977844\n",
            "  batch 7000 loss: 0.34122527159404126\n",
            "  batch 8000 loss: 0.3241186883571063\n",
            "  batch 9000 loss: 0.3331725810964708\n",
            "  batch 10000 loss: 0.3214435591583606\n",
            "  batch 11000 loss: 0.33655368762867877\n",
            "  batch 12000 loss: 0.31351627912101687\n",
            "  batch 13000 loss: 0.3271871945573657\n",
            "  batch 14000 loss: 0.32714336890469714\n",
            "  batch 15000 loss: 0.3355244715420631\n",
            "LOSS train 0.3355244715420631 valid 0.34342870116233826\n",
            "EPOCH 4:\n",
            "  batch 1000 loss: 0.30412721745432647\n",
            "  batch 2000 loss: 0.30001631144922614\n",
            "  batch 3000 loss: 0.3074606587773815\n",
            "  batch 4000 loss: 0.3110863009243185\n",
            "  batch 5000 loss: 0.31631779889736206\n",
            "  batch 6000 loss: 0.3112371105948114\n",
            "  batch 7000 loss: 0.3050300793138158\n",
            "  batch 8000 loss: 0.30563094543745684\n",
            "  batch 9000 loss: 0.3187304587368853\n",
            "  batch 10000 loss: 0.30308198422471105\n",
            "  batch 11000 loss: 0.3047060231319629\n",
            "  batch 12000 loss: 0.3013160732379183\n",
            "  batch 13000 loss: 0.28478099090167414\n",
            "  batch 14000 loss: 0.30177343854782157\n",
            "  batch 15000 loss: 0.2989418878369615\n",
            "LOSS train 0.2989418878369615 valid 0.33308666944503784\n",
            "EPOCH 5:\n",
            "  batch 1000 loss: 0.26007817739363964\n",
            "  batch 2000 loss: 0.3021760730471142\n",
            "  batch 3000 loss: 0.28860453686246185\n",
            "  batch 4000 loss: 0.2848389602644129\n",
            "  batch 5000 loss: 0.2677109819586331\n",
            "  batch 6000 loss: 0.2841879708971319\n",
            "  batch 7000 loss: 0.28256201830626015\n",
            "  batch 8000 loss: 0.26858051983703624\n",
            "  batch 9000 loss: 0.2781596880178986\n",
            "  batch 10000 loss: 0.29618939510153725\n",
            "  batch 11000 loss: 0.27759201432692227\n",
            "  batch 12000 loss: 0.286604293648621\n",
            "  batch 13000 loss: 0.3019464366893917\n",
            "  batch 14000 loss: 0.2870475380414719\n",
            "  batch 15000 loss: 0.3021512973558456\n",
            "LOSS train 0.3021512973558456 valid 0.3164200782775879\n"
          ]
        }
      ],
      "source": [
        "# Initializing in a separate cell so we can easily add more epochs to the same run\n",
        "timestamp = datetime.now().strftime('%Y%m%d_%H%M%S')\n",
        "writer = SummaryWriter('runs/fashion_trainer_{}'.format(timestamp))\n",
        "epoch_number = 0\n",
        "\n",
        "EPOCHS = 5\n",
        "\n",
        "best_vloss = 1_000_000.\n",
        "\n",
        "for epoch in range(EPOCHS):\n",
        "    print('EPOCH {}:'.format(epoch_number + 1))\n",
        "\n",
        "    # Make sure gradient tracking is on, and do a pass over the data\n",
        "    model.train(True)\n",
        "    avg_loss = train_one_epoch(epoch_number, writer)\n",
        "\n",
        "\n",
        "    running_vloss = 0.0\n",
        "    # Set the model to evaluation mode, disabling dropout and using population\n",
        "    # statistics for batch normalization.\n",
        "    model.eval()\n",
        "\n",
        "    # Disable gradient computation and reduce memory consumption.\n",
        "    with torch.no_grad():\n",
        "        for i, vdata in enumerate(validation_loader):\n",
        "            vinputs, vlabels = vdata\n",
        "            voutputs = model(vinputs)\n",
        "            vloss = loss_fn(voutputs, vlabels)\n",
        "            running_vloss += vloss\n",
        "\n",
        "    avg_vloss = running_vloss / (i + 1)\n",
        "    print('LOSS train {} valid {}'.format(avg_loss, avg_vloss))\n",
        "\n",
        "    # Log the running loss averaged per batch\n",
        "    # for both training and validation\n",
        "    writer.add_scalars('Training vs. Validation Loss',\n",
        "                    { 'Training' : avg_loss, 'Validation' : avg_vloss },\n",
        "                    epoch_number + 1)\n",
        "    writer.flush()\n",
        "\n",
        "    # Track best performance, and save the model's state\n",
        "    if avg_vloss < best_vloss:\n",
        "        best_vloss = avg_vloss\n",
        "        model_path = 'model_{}_{}'.format(timestamp, epoch_number)\n",
        "        torch.save(model.state_dict(), model_path)\n",
        "\n",
        "    epoch_number += 1"
      ]
    },
    {
      "cell_type": "markdown",
      "metadata": {
        "id": "IoahUgb7ZlTV"
      },
      "source": [
        "To load a saved version of the model:\n",
        "\n",
        ".. code:: python\n",
        "\n",
        "    saved_model = GarmentClassifier()\n",
        "    saved_model.load_state_dict(torch.load(PATH))\n",
        "\n",
        "Once you’ve loaded the model, it’s ready for whatever you need it for -\n",
        "more training, inference, or analysis.\n",
        "\n",
        "Note that if your model has constructor parameters that affect model\n",
        "structure, you’ll need to provide them and configure the model\n",
        "identically to the state in which it was saved.\n",
        "\n",
        "## Other Resources\n",
        "\n",
        "-  Docs on the [data\n",
        "   utilities](https://pytorch.org/docs/stable/data.html)_, including\n",
        "   Dataset and DataLoader, at pytorch.org\n",
        "-  A [note on the use of pinned\n",
        "   memory](https://pytorch.org/docs/stable/notes/cuda.html#cuda-memory-pinning)_\n",
        "   for GPU training\n",
        "-  Documentation on the datasets available in\n",
        "   [TorchVision](https://pytorch.org/vision/stable/datasets.html)_,\n",
        "   [TorchText](https://pytorch.org/text/stable/datasets.html)_, and\n",
        "   [TorchAudio](https://pytorch.org/audio/stable/datasets.html)_\n",
        "-  Documentation on the [loss\n",
        "   functions](https://pytorch.org/docs/stable/nn.html#loss-functions)_\n",
        "   available in PyTorch\n",
        "-  Documentation on the [torch.optim\n",
        "   package](https://pytorch.org/docs/stable/optim.html)_, which\n",
        "   includes optimizers and related tools, such as learning rate\n",
        "   scheduling\n",
        "-  A detailed [tutorial on saving and loading\n",
        "   models](https://pytorch.org/tutorials/beginner/saving_loading_models.html)_\n",
        "-  The [Tutorials section of\n",
        "   pytorch.org](https://pytorch.org/tutorials/)_ contains tutorials on\n",
        "   a broad variety of training tasks, including classification in\n",
        "   different domains, generative adversarial networks, reinforcement\n",
        "   learning, and more\n",
        "\n",
        "\n"
      ]
    }
  ],
  "metadata": {
    "kernelspec": {
      "display_name": "Python 3",
      "language": "python",
      "name": "python3"
    },
    "language_info": {
      "codemirror_mode": {
        "name": "ipython",
        "version": 3
      },
      "file_extension": ".py",
      "mimetype": "text/x-python",
      "name": "python",
      "nbconvert_exporter": "python",
      "pygments_lexer": "ipython3",
      "version": "3.10.13"
    },
    "colab": {
      "provenance": [],
      "toc_visible": true
    }
  },
  "nbformat": 4,
  "nbformat_minor": 0
}